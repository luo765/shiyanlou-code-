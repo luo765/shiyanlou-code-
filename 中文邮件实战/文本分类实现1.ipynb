{
 "cells": [
  {
   "cell_type": "markdown",
   "id": "fd69c8e6-54f2-4dc5-8ab5-4eab918ac5cb",
   "metadata": {},
   "source": [
    "文本分类问题\n",
    "二分类，也是最基础的分类，顾名思义是将文本归为两种类别，比如将正常邮件邮件划分问题，垃圾邮件或者正常邮件。一段影评，判断是好评还是差评的问题。\n",
    "多分类，是将文本划分为多个类别，比如将新闻归为政治类，娱乐类，生活类等等。\n",
    "多标签分类，是给文本贴上多个不同的标签，比如一部小说可以同时被划分为多个主题，可能既是修仙小说，又是玄幻小说\n",
    "\n"
   ]
  },
  {
   "cell_type": "markdown",
   "id": "3feb6780-3102-4b47-af84-28f07d73a427",
   "metadata": {},
   "source": [
    "中文邮件分类\n",
    "1. 导入数据，并进行分词和剔除停用词。\n",
    "2. 划分训练集和测试集。\n",
    "3. 将文本数据转化为数字特征数据。\n",
    "4. 构建分类器。\n",
    "5. 训练分类器。\n",
    "6. 测试分类器。\n"
   ]
  },
  {
   "cell_type": "code",
   "execution_count": 1,
   "id": "1cf15996-b020-4300-a768-146dd1457656",
   "metadata": {},
   "outputs": [],
   "source": [
    "path = 'ham_data.txt'#正常邮件\n",
    "path2 = 'spam_data.txt'#垃圾邮件\n",
    "h = open(path,'r',encoding='utf-8')\n",
    "h_data = h.readlines()\n",
    "s = open(path2, encoding='utf-8')\n",
    "s_data = s.readlines()\n",
    "\n"
   ]
  },
  {
   "cell_type": "code",
   "execution_count": 2,
   "id": "3a84ce1b-449a-4e8d-9b6a-1ec98ccf25a1",
   "metadata": {},
   "outputs": [
    {
     "name": "stdout",
     "output_type": "stream",
     "text": [
      "1.2.2\n"
     ]
    }
   ],
   "source": [
    "import sklearn\n",
    "print(sklearn.__version__)"
   ]
  },
  {
   "cell_type": "code",
   "execution_count": 3,
   "id": "7aa6ae62-30c6-4408-b6ae-e0916595eab7",
   "metadata": {},
   "outputs": [
    {
     "data": {
      "text/plain": [
       "<_io.TextIOWrapper name='ham_data.txt' mode='r' encoding='utf-8'>"
      ]
     },
     "execution_count": 3,
     "metadata": {},
     "output_type": "execute_result"
    }
   ],
   "source": [
    "h"
   ]
  },
  {
   "cell_type": "code",
   "execution_count": 4,
   "id": "b4879cf4-86ca-4971-b145-53223fba356f",
   "metadata": {},
   "outputs": [
    {
     "data": {
      "text/plain": [
       "['讲的是孔子后人的故事。一个老领导回到家乡，跟儿子感情不和，跟贪财的孙子孔为本和睦。 老领导的弟弟魏宗万是赶马车的。 有个洋妞大概是考察民俗的，在他们家过年。 孔为本总想出国，被爷爷教育了。 最后，一家人基本和解。 顺便问另一类电影，北京青年电影制片厂的。中越战背景。一军人被介绍了一个对象，去相亲。女方是军队医院的护士，犹豫不决，总是在回忆战场上负伤的男友，好像还没死。最后 男方表示理解，归队了。\\n',\n",
       " '不至于吧，离开这个破公司就没有课题可以做了？ 谢谢大家的关心，她昨天晚上睡的很好。MM她自己已经想好了。见机行事吧，拿到相关的能出来做论文的材料，就马上辞职。 唉！看看吧，说不定还要各为XDJM帮出出找工作的主意呢。MM学通信的，哈尔滨工程大学的研究生，不想在哈碌碌无为的做设计，因此才出来的。先谢谢了啊。！！！ 本人语文不好，没加标点。辛苦那些看不懂的XDJM么了。\\n',\n",
       " '生一个玩玩，不好玩了就送人 第一，你要知道，你们恋爱前，你爹妈对她是毫无意义的。没道理你爹妈就要求她生孩子，她就得听话。换句话说，你岳父母要未来孩子跟妈姓，你做的到吗？夫妻是平等的。如果你没办法答应岳父母，她干吗答应你爹妈呢？ 第二，有了孩子你养不养的起？不是说想生就生，图你爹妈一个高兴，如果没有房子，没有充足的财力，生孩子只会带给你们更多的困难，生小孩容易，养小孩难啊。\\n']"
      ]
     },
     "execution_count": 4,
     "metadata": {},
     "output_type": "execute_result"
    }
   ],
   "source": [
    "h_data[0:3]"
   ]
  },
  {
   "cell_type": "code",
   "execution_count": 5,
   "id": "dfc7ffcf-7f02-468f-a9c9-fa614f81969e",
   "metadata": {},
   "outputs": [],
   "source": [
    "import numpy as np\n",
    "h_labels = np.ones(len(h_data)).tolist()"
   ]
  },
  {
   "cell_type": "code",
   "execution_count": 6,
   "id": "e8061bbd-a99b-4ea6-8176-007cf0bb142d",
   "metadata": {},
   "outputs": [],
   "source": [
    "s_labels = np.zeros(len(s_data)).tolist()"
   ]
  },
  {
   "cell_type": "code",
   "execution_count": 7,
   "id": "e4c8f0ab-2db9-4fa6-a6a0-645a8ad48cda",
   "metadata": {},
   "outputs": [],
   "source": [
    "datas = h_data + s_data\n",
    "labels = h_labels + s_labels"
   ]
  },
  {
   "cell_type": "code",
   "execution_count": 8,
   "id": "237128ad-a82a-49f2-9bb2-a4e85b504cae",
   "metadata": {},
   "outputs": [],
   "source": [
    "\n",
    "from sklearn.model_selection import train_test_split"
   ]
  },
  {
   "cell_type": "code",
   "execution_count": 9,
   "id": "57844e2f-7cc8-4f07-87b9-62dd0ff14587",
   "metadata": {},
   "outputs": [],
   "source": [
    "train_d,test_d,train_y,test_y = train_test_split(datas,labels,test_size=0.25,random_state=5)"
   ]
  },
  {
   "cell_type": "code",
   "execution_count": 10,
   "id": "961948a1-f79e-451b-a485-33a5d176a60d",
   "metadata": {},
   "outputs": [],
   "source": [
    "import jieba\n",
    "\n",
    "\n",
    "def tokenize_words(corpus):\n",
    "    tokenized_words = jieba.cut(corpus)\n",
    "    tokenized_words = [token.strip() for token in tokenized_words]\n",
    "    return tokenized_words\n"
   ]
  },
  {
   "cell_type": "code",
   "execution_count": 11,
   "id": "b000a066-fa5a-4370-a479-cf50ed14c5b4",
   "metadata": {},
   "outputs": [],
   "source": [
    "def remove_stopwords(corpus):  # 函数输入为样本集\n",
    "    sw = open('stop_word.txt', encoding='utf-8')  # stopwords 停词表\n",
    "    sw_list = [l.strip() for l in sw]  # 去掉文本中的回车符，然后存放到 sw_list 当中\n",
    "    # 调用前面定义好的分词函数返回到 tokenized_data 当中\n",
    "    tokenized_data = tokenize_words(corpus)\n",
    "    # 过滤停用词，对每个在 tokenized_data 中的词 data 进行判断\n",
    "    # 如果 data 不在 sw_list 则添加到 filtered_data 当中\n",
    "    filtered_data = [data for data in tokenized_data if data not in sw_list]\n",
    "    # 用''将 filtered_data 串起来赋值给 filtered_datas\n",
    "    filtered_datas = ' '.join(filtered_data)\n",
    "    return filtered_datas  # 返回去停用词之后的 datas\n"
   ]
  },
  {
   "cell_type": "code",
   "execution_count": 12,
   "id": "9847566f-af8b-48a8-a41a-c4390c465e63",
   "metadata": {},
   "outputs": [],
   "source": [
    "from tqdm.notebook import tqdm\n",
    "\n",
    "\n",
    "def preprocessing_datas(datas):\n",
    "    preprocessed_datas = []\n",
    "    # 对 datas 当中的每一个 data 进行去停用词操作\n",
    "    # 并添加到上面刚刚建立的 preprocessed_datas 当中\n",
    "    for data in tqdm(datas):\n",
    "        data = remove_stopwords(data)\n",
    "        preprocessed_datas.append(data)\n",
    "\n",
    "    return preprocessed_datas  # 返回去停用词之后的新的样本集\n"
   ]
  },
  {
   "cell_type": "code",
   "execution_count": 13,
   "id": "10dbb23d-113b-4cff-bc27-df6581d26ad7",
   "metadata": {},
   "outputs": [
    {
     "data": {
      "application/vnd.jupyter.widget-view+json": {
       "model_id": "73d7ffab50f143f68d35e4ece06b2d41",
       "version_major": 2,
       "version_minor": 0
      },
      "text/plain": [
       "  0%|          | 0/7500 [00:00<?, ?it/s]"
      ]
     },
     "metadata": {},
     "output_type": "display_data"
    },
    {
     "name": "stderr",
     "output_type": "stream",
     "text": [
      "Building prefix dict from the default dictionary ...\n",
      "Loading model from cache C:\\Users\\luoso\\AppData\\Local\\Temp\\jieba.cache\n",
      "Loading model cost 1.065 seconds.\n",
      "Prefix dict has been built successfully.\n"
     ]
    }
   ],
   "source": [
    "pred_train_d = preprocessing_datas(train_d)\n",
    "\n"
   ]
  },
  {
   "cell_type": "code",
   "execution_count": 15,
   "id": "7668f64a-79b5-45fb-9e89-2b97b4a3937a",
   "metadata": {},
   "outputs": [
    {
     "data": {
      "application/vnd.jupyter.widget-view+json": {
       "model_id": "6be41580f69d497089a0f97396849a19",
       "version_major": 2,
       "version_minor": 0
      },
      "text/plain": [
       "  0%|          | 0/2501 [00:00<?, ?it/s]"
      ]
     },
     "metadata": {},
     "output_type": "display_data"
    }
   ],
   "source": [
    "pred_test_d = preprocessing_datas(test_d)\n"
   ]
  },
  {
   "cell_type": "code",
   "execution_count": 16,
   "id": "6f9af987-336d-4ef8-b22e-42a83b35b038",
   "metadata": {},
   "outputs": [],
   "source": [
    "from sklearn.feature_extraction.text import TfidfVectorizer\n",
    "\n",
    "vectorizer = TfidfVectorizer(\n",
    "    min_df=1, norm='l2', smooth_idf=True, use_idf=True, ngram_range=(1, 1))\n"
   ]
  },
  {
   "cell_type": "code",
   "execution_count": 17,
   "id": "240520c2-fdea-434e-9478-e4718e349a24",
   "metadata": {},
   "outputs": [
    {
     "data": {
      "text/plain": [
       "<7500x28336 sparse matrix of type '<class 'numpy.float64'>'\n",
       "\twith 199263 stored elements in Compressed Sparse Row format>"
      ]
     },
     "execution_count": 17,
     "metadata": {},
     "output_type": "execute_result"
    }
   ],
   "source": [
    "tfidf_train_features = vectorizer.fit_transform(pred_train_d)\n",
    "tfidf_train_features\n"
   ]
  },
  {
   "cell_type": "code",
   "execution_count": 18,
   "id": "73d74867-848b-4760-9e8a-e5323559346a",
   "metadata": {},
   "outputs": [
    {
     "data": {
      "text/plain": [
       "array([0., 0., 0., ..., 0., 0., 0.])"
      ]
     },
     "execution_count": 18,
     "metadata": {},
     "output_type": "execute_result"
    }
   ],
   "source": [
    "tfidf_train_features.toarray()[0]\n",
    "#查看训练特征集"
   ]
  },
  {
   "cell_type": "code",
   "execution_count": 20,
   "id": "5c4fdfb9-3e11-47fd-b895-3aa2e3d922a3",
   "metadata": {},
   "outputs": [],
   "source": [
    "tfidf_test_features = vectorizer.transform(pred_test_d)\n",
    "\n"
   ]
  },
  {
   "cell_type": "code",
   "execution_count": 19,
   "id": "79e3c407-c3f6-4a05-afde-f9a77f509a32",
   "metadata": {},
   "outputs": [
    {
     "data": {
      "text/html": [
       "<style>#sk-container-id-1 {color: black;background-color: white;}#sk-container-id-1 pre{padding: 0;}#sk-container-id-1 div.sk-toggleable {background-color: white;}#sk-container-id-1 label.sk-toggleable__label {cursor: pointer;display: block;width: 100%;margin-bottom: 0;padding: 0.3em;box-sizing: border-box;text-align: center;}#sk-container-id-1 label.sk-toggleable__label-arrow:before {content: \"▸\";float: left;margin-right: 0.25em;color: #696969;}#sk-container-id-1 label.sk-toggleable__label-arrow:hover:before {color: black;}#sk-container-id-1 div.sk-estimator:hover label.sk-toggleable__label-arrow:before {color: black;}#sk-container-id-1 div.sk-toggleable__content {max-height: 0;max-width: 0;overflow: hidden;text-align: left;background-color: #f0f8ff;}#sk-container-id-1 div.sk-toggleable__content pre {margin: 0.2em;color: black;border-radius: 0.25em;background-color: #f0f8ff;}#sk-container-id-1 input.sk-toggleable__control:checked~div.sk-toggleable__content {max-height: 200px;max-width: 100%;overflow: auto;}#sk-container-id-1 input.sk-toggleable__control:checked~label.sk-toggleable__label-arrow:before {content: \"▾\";}#sk-container-id-1 div.sk-estimator input.sk-toggleable__control:checked~label.sk-toggleable__label {background-color: #d4ebff;}#sk-container-id-1 div.sk-label input.sk-toggleable__control:checked~label.sk-toggleable__label {background-color: #d4ebff;}#sk-container-id-1 input.sk-hidden--visually {border: 0;clip: rect(1px 1px 1px 1px);clip: rect(1px, 1px, 1px, 1px);height: 1px;margin: -1px;overflow: hidden;padding: 0;position: absolute;width: 1px;}#sk-container-id-1 div.sk-estimator {font-family: monospace;background-color: #f0f8ff;border: 1px dotted black;border-radius: 0.25em;box-sizing: border-box;margin-bottom: 0.5em;}#sk-container-id-1 div.sk-estimator:hover {background-color: #d4ebff;}#sk-container-id-1 div.sk-parallel-item::after {content: \"\";width: 100%;border-bottom: 1px solid gray;flex-grow: 1;}#sk-container-id-1 div.sk-label:hover label.sk-toggleable__label {background-color: #d4ebff;}#sk-container-id-1 div.sk-serial::before {content: \"\";position: absolute;border-left: 1px solid gray;box-sizing: border-box;top: 0;bottom: 0;left: 50%;z-index: 0;}#sk-container-id-1 div.sk-serial {display: flex;flex-direction: column;align-items: center;background-color: white;padding-right: 0.2em;padding-left: 0.2em;position: relative;}#sk-container-id-1 div.sk-item {position: relative;z-index: 1;}#sk-container-id-1 div.sk-parallel {display: flex;align-items: stretch;justify-content: center;background-color: white;position: relative;}#sk-container-id-1 div.sk-item::before, #sk-container-id-1 div.sk-parallel-item::before {content: \"\";position: absolute;border-left: 1px solid gray;box-sizing: border-box;top: 0;bottom: 0;left: 50%;z-index: -1;}#sk-container-id-1 div.sk-parallel-item {display: flex;flex-direction: column;z-index: 1;position: relative;background-color: white;}#sk-container-id-1 div.sk-parallel-item:first-child::after {align-self: flex-end;width: 50%;}#sk-container-id-1 div.sk-parallel-item:last-child::after {align-self: flex-start;width: 50%;}#sk-container-id-1 div.sk-parallel-item:only-child::after {width: 0;}#sk-container-id-1 div.sk-dashed-wrapped {border: 1px dashed gray;margin: 0 0.4em 0.5em 0.4em;box-sizing: border-box;padding-bottom: 0.4em;background-color: white;}#sk-container-id-1 div.sk-label label {font-family: monospace;font-weight: bold;display: inline-block;line-height: 1.2em;}#sk-container-id-1 div.sk-label-container {text-align: center;}#sk-container-id-1 div.sk-container {/* jupyter's `normalize.less` sets `[hidden] { display: none; }` but bootstrap.min.css set `[hidden] { display: none !important; }` so we also need the `!important` here to be able to override the default hidden behavior on the sphinx rendered scikit-learn.org. See: https://github.com/scikit-learn/scikit-learn/issues/21755 */display: inline-block !important;position: relative;}#sk-container-id-1 div.sk-text-repr-fallback {display: none;}</style><div id=\"sk-container-id-1\" class=\"sk-top-container\"><div class=\"sk-text-repr-fallback\"><pre>SGDClassifier()</pre><b>In a Jupyter environment, please rerun this cell to show the HTML representation or trust the notebook. <br />On GitHub, the HTML representation is unable to render, please try loading this page with nbviewer.org.</b></div><div class=\"sk-container\" hidden><div class=\"sk-item\"><div class=\"sk-estimator sk-toggleable\"><input class=\"sk-toggleable__control sk-hidden--visually\" id=\"sk-estimator-id-1\" type=\"checkbox\" checked><label for=\"sk-estimator-id-1\" class=\"sk-toggleable__label sk-toggleable__label-arrow\">SGDClassifier</label><div class=\"sk-toggleable__content\"><pre>SGDClassifier()</pre></div></div></div></div></div>"
      ],
      "text/plain": [
       "SGDClassifier()"
      ]
     },
     "execution_count": 19,
     "metadata": {},
     "output_type": "execute_result"
    }
   ],
   "source": [
    "from sklearn.linear_model import SGDClassifier\n",
    "\n",
    "svm = SGDClassifier(loss='hinge')\n",
    "svm.fit(tfidf_train_features, train_y)\n",
    "\n",
    "\n"
   ]
  },
  {
   "cell_type": "code",
   "execution_count": 21,
   "id": "579e0a1e-58d7-4153-b302-22e14136c7f8",
   "metadata": {},
   "outputs": [],
   "source": [
    "predictions = svm.predict(tfidf_test_features)"
   ]
  },
  {
   "cell_type": "code",
   "execution_count": 23,
   "id": "11cd276b-ec8c-40c0-9cd8-a48794a7f599",
   "metadata": {},
   "outputs": [
    {
     "data": {
      "text/plain": [
       "0.99"
      ]
     },
     "execution_count": 23,
     "metadata": {},
     "output_type": "execute_result"
    }
   ],
   "source": [
    "from sklearn import metrics\n",
    "\n",
    "accuracy_score = np.round(metrics.accuracy_score(test_y, predictions), 2)\n",
    "accuracy_score\n"
   ]
  },
  {
   "cell_type": "code",
   "execution_count": 24,
   "id": "a03eca66-fdcf-4ad2-99e8-aaba9163e134",
   "metadata": {},
   "outputs": [
    {
     "name": "stdout",
     "output_type": "stream",
     "text": [
      "邮件类型： 0.0\n",
      "预测邮件类型： 0.0\n",
      "文本： 您好！ 我公司有多余的发票可以向外代开！（国税、地税、运输、广告、海关缴款书）。 如果贵公司（厂）有需要请来电洽谈、咨询！ 联系电话：(0)13510614952 吴小姐 谢谢！ 顺祝商祺!\n",
      "\n"
     ]
    }
   ],
   "source": [
    "print('邮件类型：', test_y[20])\n",
    "print('预测邮件类型：', predictions[20])\n",
    "print('文本：', test_d[20])\n"
   ]
  },
  {
   "cell_type": "code",
   "execution_count": null,
   "id": "aa6e7315-66d5-49dc-8da2-96e815336f90",
   "metadata": {},
   "outputs": [],
   "source": []
  }
 ],
 "metadata": {
  "kernelspec": {
   "display_name": "Python 3 (ipykernel)",
   "language": "python",
   "name": "python3"
  },
  "language_info": {
   "codemirror_mode": {
    "name": "ipython",
    "version": 3
   },
   "file_extension": ".py",
   "mimetype": "text/x-python",
   "name": "python",
   "nbconvert_exporter": "python",
   "pygments_lexer": "ipython3",
   "version": "3.10.10"
  }
 },
 "nbformat": 4,
 "nbformat_minor": 5
}
